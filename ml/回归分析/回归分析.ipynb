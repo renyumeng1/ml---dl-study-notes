{
 "cells": [
  {
   "cell_type": "markdown",
   "metadata": {},
   "source": [
    "# 安装相关库"
   ]
  },
  {
   "cell_type": "code",
   "execution_count": 60,
   "metadata": {},
   "outputs": [
    {
     "name": "stdout",
     "output_type": "stream",
     "text": [
      "Looking in indexes: https://mirrors.aliyun.com/pypi/simple/\n",
      "Requirement already satisfied: scikit-learn in c:\\python312\\lib\\site-packages (1.4.2)\n",
      "Requirement already satisfied: numpy>=1.19.5 in c:\\python312\\lib\\site-packages (from scikit-learn) (1.26.4)\n",
      "Requirement already satisfied: scipy>=1.6.0 in c:\\python312\\lib\\site-packages (from scikit-learn) (1.13.0)\n",
      "Requirement already satisfied: joblib>=1.2.0 in c:\\python312\\lib\\site-packages (from scikit-learn) (1.4.0)\n",
      "Requirement already satisfied: threadpoolctl>=2.0.0 in c:\\python312\\lib\\site-packages (from scikit-learn) (3.4.0)\n",
      "Looking in indexes: https://mirrors.aliyun.com/pypi/simple/\n",
      "Requirement already satisfied: matplotlib in c:\\python312\\lib\\site-packages (3.8.4)\n",
      "Requirement already satisfied: contourpy>=1.0.1 in c:\\python312\\lib\\site-packages (from matplotlib) (1.2.1)\n",
      "Requirement already satisfied: cycler>=0.10 in c:\\python312\\lib\\site-packages (from matplotlib) (0.12.1)\n",
      "Requirement already satisfied: fonttools>=4.22.0 in c:\\python312\\lib\\site-packages (from matplotlib) (4.51.0)\n",
      "Requirement already satisfied: kiwisolver>=1.3.1 in c:\\python312\\lib\\site-packages (from matplotlib) (1.4.5)\n",
      "Requirement already satisfied: numpy>=1.21 in c:\\python312\\lib\\site-packages (from matplotlib) (1.26.4)\n",
      "Requirement already satisfied: packaging>=20.0 in c:\\python312\\lib\\site-packages (from matplotlib) (24.0)\n",
      "Requirement already satisfied: pillow>=8 in c:\\python312\\lib\\site-packages (from matplotlib) (10.3.0)\n",
      "Requirement already satisfied: pyparsing>=2.3.1 in c:\\python312\\lib\\site-packages (from matplotlib) (3.1.2)\n",
      "Requirement already satisfied: python-dateutil>=2.7 in c:\\python312\\lib\\site-packages (from matplotlib) (2.9.0.post0)\n",
      "Requirement already satisfied: six>=1.5 in c:\\python312\\lib\\site-packages (from python-dateutil>=2.7->matplotlib) (1.16.0)\n",
      "Looking in indexes: https://mirrors.aliyun.com/pypi/simple/\n",
      "Requirement already satisfied: pandas in c:\\users\\hp\\appdata\\roaming\\python\\python312\\site-packages (2.2.2)\n",
      "Requirement already satisfied: numpy>=1.26.0 in c:\\python312\\lib\\site-packages (from pandas) (1.26.4)\n",
      "Requirement already satisfied: python-dateutil>=2.8.2 in c:\\python312\\lib\\site-packages (from pandas) (2.9.0.post0)\n",
      "Requirement already satisfied: pytz>=2020.1 in c:\\users\\hp\\appdata\\roaming\\python\\python312\\site-packages (from pandas) (2024.1)\n",
      "Requirement already satisfied: tzdata>=2022.7 in c:\\users\\hp\\appdata\\roaming\\python\\python312\\site-packages (from pandas) (2024.1)\n",
      "Requirement already satisfied: six>=1.5 in c:\\python312\\lib\\site-packages (from python-dateutil>=2.8.2->pandas) (1.16.0)\n",
      "Looking in indexes: https://mirrors.aliyun.com/pypi/simple/\n",
      "Requirement already satisfied: tqdm in c:\\python312\\lib\\site-packages (4.66.2)\n",
      "Requirement already satisfied: colorama in c:\\users\\hp\\appdata\\roaming\\python\\python312\\site-packages (from tqdm) (0.4.6)\n"
     ]
    }
   ],
   "source": [
    "! pip install scikit-learn\n",
    "! pip install matplotlib\n",
    "! pip install pandas\n",
    "! pip install tqdm"
   ]
  },
  {
   "cell_type": "code",
   "execution_count": 61,
   "metadata": {},
   "outputs": [
    {
     "name": "stdout",
     "output_type": "stream",
     "text": [
      "Package           Version\n",
      "----------------- -----------\n",
      "asttokens         2.4.1\n",
      "colorama          0.4.6\n",
      "comm              0.2.2\n",
      "contourpy         1.2.1\n",
      "cycler            0.12.1\n",
      "debugpy           1.8.1\n",
      "decorator         5.1.1\n",
      "executing         2.0.1\n",
      "fonttools         4.51.0\n",
      "ipykernel         6.29.4\n",
      "ipython           8.23.0\n",
      "jedi              0.19.1\n",
      "joblib            1.4.0\n",
      "jupyter_client    8.6.1\n",
      "jupyter_core      5.7.2\n",
      "kiwisolver        1.4.5\n",
      "matplotlib        3.8.4\n",
      "matplotlib-inline 0.1.7\n",
      "nest-asyncio      1.6.0\n",
      "numpy             1.26.4\n",
      "packaging         24.0\n",
      "pandas            2.2.2\n",
      "parso             0.8.4\n",
      "pillow            10.3.0\n",
      "pip               24.0\n",
      "platformdirs      4.2.0\n",
      "prompt-toolkit    3.0.43\n",
      "psutil            5.9.8\n",
      "pure-eval         0.2.2\n",
      "Pygments          2.17.2\n",
      "pyparsing         3.1.2\n",
      "python-dateutil   2.9.0.post0\n",
      "pytz              2024.1\n",
      "pywin32           306\n",
      "pyzmq             26.0.0\n",
      "scikit-learn      1.4.2\n",
      "scipy             1.13.0\n",
      "six               1.16.0\n",
      "stack-data        0.6.3\n",
      "threadpoolctl     3.4.0\n",
      "tornado           6.4\n",
      "tqdm              4.66.2\n",
      "traitlets         5.14.2\n",
      "tzdata            2024.1\n",
      "wcwidth           0.2.13\n"
     ]
    }
   ],
   "source": [
    "! pip list"
   ]
  },
  {
   "cell_type": "markdown",
   "metadata": {},
   "source": [
    "# 1 多元线性回归\n",
    "\n",
    "## 1.1 基本形式\n",
    "\n",
    "线性模型试图学得一个通过属性的线性组合来预测的函数，基本形式如下：\n",
    "$$f(x)=w_1x_1+w_2x_2+...+w_dx_d+b \\tag{1.1}$$\n",
    "向量形式如下:\n",
    "$$f(x)=w^{T}x+b \\tag{1.2}$$\n",
    "\n",
    "## 1.2 $w$与$b$的确定\n",
    "\n",
    "### 1.2.1 一元\n",
    "\n",
    "一般采用最小二乘法确定模型参数,一元情形推导如下：\n",
    "\n",
    "$$\n",
    "\\begin{align}\n",
    " (w^*,b^*) &= \\mathop{\\arg\\min}\\limits_{(w,b)}\\sum_{i=1}^{m}{(f(x_i)-yi)^2}\\nonumber\\\\&=\\mathop{\\arg\\min}\\limits_{(w,b)}\\sum_{i=1}^{m}{(y_i-wx_i-b)^2} \\tag{1.3}\n",
    "\\end{align}\n",
    "$$\n",
    "\n",
    "我们令$E_{(w,b)}=\\mathop{\\arg\\min}\\limits_{(w,b)}\\sum_{i=1}^{m}{(y_i-wx_i-b)^2}$，等式两边同时对$w$和$b$求导有：\n",
    "\n",
    "$$\n",
    "\\begin{align}\n",
    "  \\frac{\\partial E_{(w,b)}}{\\partial b} &=2\\Big(mb- \\sum_{i=1}^m(y_i-wx_i)\\Big) \\tag{1.4}\n",
    "\\end{align}\n",
    "$$\n",
    "\n",
    "$$\n",
    "\\begin{align}\n",
    "\\frac{\\partial E_{(w,b)}}{\\partial w} &= \\sum_{i=1}^{m}2(y_i-wx_i-b)(-x_i) \\nonumber \\\\ &= 2 \\Big (w\\sum_{i_1}^mx^2-\\sum_{i=1}^m(y_i-b)x_i\\Big ) \\tag{1.5}\n",
    "\\end{align}\n",
    "$$\n",
    "\n",
    "然后令式(1.4)和(1.5)为零得到：\n",
    "\n",
    "$$\n",
    "\\begin{align}\n",
    "  b&=\\frac{1}{m}\\sum_{i=1}^my_i-wx_i \\nonumber\\\\&=\\bar{y}-w\\bar{x} \\tag{1.6}\\\n",
    "\\end{align}\n",
    "$$\n",
    "\n",
    "$$\n",
    "\\begin{align}\n",
    "w\\sum_{i=1}^m{x_i^2}=\\sum_{i=1}^m{(y_i-b)x_i}\\tag{1.7}\n",
    "\\end{align}\n",
    "$$\n",
    "\n",
    "将(1.6)带入(1.7)得到：\n",
    "\n",
    "$$\n",
    "\\begin{align}\n",
    "  w\\sum_{i=1}^m{x_i^2}&=\\sum_{i=1}^m{(y_ix_i)-\\sum_{i=1}^m(\\bar{y}-w\\bar{x})x_i}\\nonumber \\\\ &=\\sum_{i=1}^my_ix_i - \\bar{y}\\sum_{i=1}^mx_i+w\\bar{x}\\sum_{i=1}^mx_i \\tag{1.8}\n",
    "\\end{align}\n",
    "$$\n",
    "\n",
    "对(1.8)式进行化简，最终可得:\n",
    "\n",
    "$$\n",
    "\\begin{align}\n",
    "  w = \\frac{\\sum_{i=1}^my_ix_i-\\bar{y}\\sum_{i=1}^mx_i}{\\sum_{i=1}^mx_i^2-\\sum_{i=1}^m\\bar{x}x_i} \\tag{1.9}\n",
    "\\end{align}\n",
    "$$\n",
    "\n",
    "又由于$\\bar{y}\\sum_{i=1}^mx_i=\\frac{1}{m}\\sum_{i=1}^m{y_i}\\cdot\\sum_{i=1}^mx_i=\\bar{x}\\sum_{i=1}^my_i$和$\\bar{x}\\sum_{i=1}^my_i=\\frac{1}{m}\\sum_{i=1}^mx_i\\sum_{i=1}^mx_i=\\frac{1}{m}\\Big(\\sum_{i=1}^mx_i\\Big)^2$将这两个式子带入(1.9)式进行进一步化简得到：\n",
    "\n",
    "$$\n",
    "\\begin{align}\n",
    "  w=\\frac{\\sum_{i=1}^my_i(x_i-\\bar{x})}{\\sum_{i=1}^mx_i^2-\\Big(\\sum_{i=1}^mx_i\\Big)^2}\\tag{1.20}\n",
    "\\end{align}\n",
    "$$\n",
    "\n",
    "### 1.2.2 一元情形的矩阵形式\n",
    "\n",
    "由于 python 中累加形式只能使用`for`循环进行迭代，运行效率比较低，如果将(1.20)式转化为矩阵形式可以使用`numpy`等第三方库对其矩阵运算进行加速，公式推导如下：\n",
    "\n",
    "$$\n",
    "\\begin{matrix}\\bar{y}\\sum_{i=1}^mx_i\\bar{x}\\sum_{i=1}^my_i=\\sum_{i=1}^m\\bar{y}x_i=\\sum_{i=1}^m\\bar{x}y_i \\tag{1.21}=m\\bar{x}\\bar{y}=\\sum_{i=1}^m\\bar{x}\\bar{y}\n",
    "\\end{matrix}\n",
    "$$\n",
    "\n",
    "$$\n",
    "\\begin{align}\n",
    "  \\sum_{i=1}^mx_i\\bar{x}=\\bar{x}\\sum_{i=1}^mx_i=\\bar{x}\\cdot m\\cdot \\frac{1}{m}\\sum_{i=1}^mx_i=m\\bar{x}^2=\\sum_{i=1}^m\\bar{x}^2\\tag{1.22}\n",
    "\\end{align}\n",
    "$$\n",
    "\n",
    "将式(1.21)和式(1.22)带入式(1.9)可以得到：\n",
    "\n",
    "$$\n",
    "\\begin{align}\n",
    "  w&=\\frac{\\sum_{i=1}^m(y_ix_i-y_i\\bar{x}-x_i\\bar{y}+\\bar{x}\\bar{y})}{\\sum_{i=1}^m(x_i^2-\\bar{x}x_i-\\bar{x}x_i+\\bar{x}^2)} \\nonumber\\\\&=\\frac{\\sum_{i=1}^m(x_i-\\bar{x})(y_i-\\bar{y})}{\\sum_{i=1}^m(x_i-\\bar{x})^2} \\tag{1.23}\n",
    "\\end{align}\n",
    "$$\n",
    "\n",
    "记$x=(x_1;x_2...x_m)$,$x_d=(x_i-\\bar{x};x_2-\\bar{x}...x_m-\\bar{x})$,$y_d$同$x_d$,再由向量内积的定义可以得到:\n",
    "\n",
    "$$\n",
    "\\begin{align}\n",
    "  w=\\frac{x_d^Ty_d}{x_d^Tx_d}\\tag{1.24}\n",
    "\\end{align}\n",
    "$$\n",
    "\n",
    "### 1.2.3 多元\n",
    "多元的情形可由一元的情形举一反三推导出，如下：\n",
    "$$\n",
    "\\begin{align}\n",
    "w^*&=\\mathop{\\arg\\min}\\limits_{(\\hat{w})}\\sum_{i=1}^{m}{(y_i-\\hat{w}^Tx_i)^2} \\nonumber\\\\ &=\\mathop{\\arg\\min}\\limits_{(\\hat{w})}\\sum_{i=1}^{m}{(y_i-x_i^T\\hat{w})^2} \\nonumber \\\\ &=\\mathop{\\arg\\min}\\limits_{(\\hat{w})}\\begin{bmatrix}y_1-x_1^T\\hat{w}\\dots y_m-x_m^T\\hat{w}\\end{bmatrix} \\cdot \\begin{bmatrix}y_1-x_1^T\\hat{w} \\\\ \\dots \\\\ y_m-x_m^T\\hat{w}\\end{bmatrix} \\tag{1.25}\n",
    "\\end{align}\n",
    "$$\n",
    "\n",
    "其中：\n",
    "$$\n",
    "\\begin{align}\\begin{bmatrix}y_1-x_1^T\\hat{w} \\\\ y_2-x_2^T\\hat{w} \\\\\\dots \\\\ y_m-x_m^T\\hat{w}\\end{bmatrix}&=\\begin{bmatrix}y_1\\\\ y_2\\\\ \\dots\\\\ y_m\\end{bmatrix} - \\begin{bmatrix}x_1^T\\hat{w}\\\\ x_2^T\\hat{w} \\\\ \\dots\\\\ x_m^T\\hat{w}\\end{bmatrix} \\nonumber \\\\ &=y-\\begin{bmatrix}x_1^T \\\\ x_2^T \\\\ \\dots \\\\ x_m^T\\end{bmatrix}\\cdot \\hat{w} \\nonumber \\\\ &= y-X\\hat{w} \\tag{1.26}\\end{align} \n",
    "$$\n",
    "所以:\n",
    "$$\n",
    "\\begin{align}\\hat{w}^*=\\mathop{\\arg\\min}\\limits_{(\\hat{w})}(y-X\\hat{w})^T(y-X\\hat{w}) \\tag{1.27}\\end{align}\n",
    "$$\n",
    "现引入两个定理对$\\hat{w}$的最优解做进一步推导。\n",
    "\n",
    "### 1.2.4 $\\hat{w}的求解$\n",
    "$Def_{1.28}$：设$D\\subset R^n$为非空开凸集$f(x)$是定义在$D$上的实值函数，且$f(x)$在$D$上二阶连续可微，若$f(x)$的$Hession$矩阵$\\nabla^2f(x)$在$D$上半正定则$f(x)$是$D$上的凸函数，若$\\nabla^2f(x$)在$D$上正定则$f(x)$为$D$上的严格凸函数。\n",
    "\n",
    "$Def_{1.29}$：若$f(x)$为凸函数且$f(x)$一阶连续可微则$x^*$是全局最优解的充要条件为其梯度等于零向量即:$$\\nabla f(x^*)=\\textbf{0}\\tag{1.30}$$\n",
    "为了书写方便，我们现在令$E_{\\hat{w}}=(y-X\\hat{w})^T(y-X\\hat{w})$,展开然后等式两端对$\\hat{w}$求导有：\n",
    "$$\n",
    "\\begin{align}E_{\\hat{w}}&=(y-X\\hat{w})^T(y-X\\hat{w})\\nonumber \\\\&= y^Ty-y^TX\\hat{w}-\\hat{w}^TX^Ty+\\hat{w}^TX^TX\\hat{w}\\tag{1.31} \\end{align}\n",
    "$$\n",
    "\n",
    "$$\n",
    "\\begin{align}\\frac{\\partial E\\hat{w}}{\\partial \\hat{w}}&= 0-X^Ty-X^Ty+(X^TX+X^TX)\\hat{w}\\nonumber\\\\&=2X^T(X\\hat{w}-y)\\tag{1.32}\\end{align}$$\n",
    "由式(1.32)再对$\\hat{w}^T$求偏导可以得到$E_{\\hat{w}} Hession$矩阵的表达式，如下：\n",
    "$$\n",
    "\\begin{align}\\nabla^2 E_{\\hat{w}}&=\\frac{\\partial }{\\partial w^T}\\Big (\\frac{\\partial E\\hat{w}}{\\partial w}\\Big) \\nonumber \\\\ &=2X^TX \\tag{1.33}\\end{align}\n",
    "$$\n",
    "由$Def_{1.28},Def_{1.29}$当$X^TX$为正定矩阵时，令其梯度为零向量可解得方程的全局最优解即：\n",
    "$$\\hat{w}^*=(X^TX)^{-1}X^Ty \\tag{1.34}$$"
   ]
  },
  {
   "cell_type": "markdown",
   "metadata": {},
   "source": [
    "# 2 代码实现"
   ]
  },
  {
   "cell_type": "markdown",
   "metadata": {},
   "source": [
    "## 2.1 多元线性回归"
   ]
  },
  {
   "cell_type": "code",
   "execution_count": 1,
   "metadata": {
    "ExecuteTime": {
     "end_time": "2024-04-17T10:47:09.396628600Z",
     "start_time": "2024-04-17T10:47:09.393619300Z"
    }
   },
   "outputs": [],
   "source": [
    "from sklearn.linear_model import LinearRegression,Ridge,Lasso\n",
    "from sklearn.datasets import fetch_california_housing\n",
    "import numpy as np\n",
    "import matplotlib.pyplot as plt\n",
    "import pandas as pd\n",
    "from sklearn.model_selection import KFold,LeaveOneOut\n",
    "from sklearn.metrics import mean_squared_error"
   ]
  },
  {
   "cell_type": "code",
   "execution_count": 2,
   "metadata": {},
   "outputs": [],
   "source": [
    "def getAvgMse(array:np.array):\n",
    "  return np.sum(array) / len(array)"
   ]
  },
  {
   "cell_type": "code",
   "execution_count": 3,
   "metadata": {},
   "outputs": [],
   "source": [
    "housing = fetch_california_housing()\n",
    "X = pd.DataFrame(housing.data,columns=housing.feature_names)\n",
    "y = housing.target"
   ]
  },
  {
   "cell_type": "code",
   "execution_count": 4,
   "metadata": {},
   "outputs": [
    {
     "name": "stdout",
     "output_type": "stream",
     "text": [
      "CPU times: total: 0 ns\n",
      "Wall time: 0 ns\n"
     ]
    }
   ],
   "source": [
    "kf = KFold(n_splits=10,shuffle=True,random_state=42)\n",
    "mse_scores = []\n",
    "for train_index,test_index in kf.split(X):\n",
    "  X_train,X_test = X.iloc[train_index],X.iloc[test_index]\n",
    "  y_train, y_test = y[train_index], y[test_index]\n",
    "  model = LinearRegression()\n",
    "  model.fit(X_train, y_train)\n",
    "  y_pred = model.predict(X_test)\n",
    "  mse = mean_squared_error(y_test, y_pred)\n",
    "  mse_scores.append(mse)\n",
    "%time"
   ]
  },
  {
   "cell_type": "code",
   "execution_count": 5,
   "metadata": {},
   "outputs": [
    {
     "name": "stdout",
     "output_type": "stream",
     "text": [
      "平均均方误差为：0.5325266619260602\n"
     ]
    }
   ],
   "source": [
    "avg_MSE = sum(mse_scores) / len(mse_scores)\n",
    "print(f\"平均均方误差为：{avg_MSE}\")"
   ]
  },
  {
   "cell_type": "markdown",
   "metadata": {},
   "source": [
    "## 2.2 岭回归"
   ]
  },
  {
   "cell_type": "markdown",
   "metadata": {},
   "source": [
    "### 2.2.1 十折交叉验证确定模型的$\\alpha$值"
   ]
  },
  {
   "cell_type": "code",
   "execution_count": 6,
   "metadata": {},
   "outputs": [
    {
     "name": "stderr",
     "output_type": "stream",
     "text": [
      "100%|██████████| 10/10 [00:03<00:00,  3.03it/s]"
     ]
    },
    {
     "name": "stdout",
     "output_type": "stream",
     "text": [
      "最佳 alpha 值为: 0.01\n",
      "平均mse为：0.5323994795251943\n",
      "CPU times: total: 0 ns\n",
      "Wall time: 0 ns\n"
     ]
    },
    {
     "name": "stderr",
     "output_type": "stream",
     "text": [
      "\n"
     ]
    }
   ],
   "source": [
    "from tqdm import tqdm\n",
    "def getAlpha(regressionModel):\n",
    "    alpha_values = [0.01, 0.1, 1, 10, 100]\n",
    "    mse_scores = []\n",
    "    for i in tqdm(range(10)):\n",
    "      for alpha in alpha_values:\n",
    "        model = regressionModel(alpha)\n",
    "        fold_mse = []\n",
    "        for train_index,test_index in kf.split(X):\n",
    "          X_train, X_test = X.iloc[train_index], X.iloc[test_index]\n",
    "          y_train, y_test = y[train_index], y[test_index]\n",
    "          model.fit(X_train,y_train)\n",
    "          y_pred = model.predict(X_test)\n",
    "          mse = mean_squared_error(y_test, y_pred)\n",
    "          fold_mse.append(mse)\n",
    "      mse_scores.append(np.mean(fold_mse))\n",
    "    best_alpha = alpha_values[np.argmin(mse_scores)]\n",
    "    print(\"最佳 alpha 值为:\", best_alpha)\n",
    "    avg_mse = getAvgMse(mse_scores)\n",
    "    print(f'平均mse为：{avg_mse}')\n",
    "\n",
    "getAlpha(Ridge)\n",
    "%time"
   ]
  },
  {
   "cell_type": "markdown",
   "metadata": {},
   "source": [
    "## 2.3 lasso 回归\n",
    "### 2.3.1 十折交叉验证确定$\\alpha$参数"
   ]
  },
  {
   "cell_type": "code",
   "execution_count": 7,
   "metadata": {},
   "outputs": [
    {
     "name": "stderr",
     "output_type": "stream",
     "text": [
      "100%|██████████| 10/10 [01:17<00:00,  7.78s/it]"
     ]
    },
    {
     "name": "stdout",
     "output_type": "stream",
     "text": [
      "最佳 alpha 值为: 0.01\n",
      "平均mse为：1.3316373297896518\n"
     ]
    },
    {
     "name": "stderr",
     "output_type": "stream",
     "text": [
      "\n"
     ]
    }
   ],
   "source": [
    "getAlpha(Lasso)"
   ]
  }
 ],
 "metadata": {
  "kernelspec": {
   "display_name": "Python 3 (ipykernel)",
   "language": "python",
   "name": "python3"
  },
  "language_info": {
   "codemirror_mode": {
    "name": "ipython",
    "version": 3
   },
   "file_extension": ".py",
   "mimetype": "text/x-python",
   "name": "python",
   "nbconvert_exporter": "python",
   "pygments_lexer": "ipython3",
   "version": "3.12.3"
  }
 },
 "nbformat": 4,
 "nbformat_minor": 2
}
